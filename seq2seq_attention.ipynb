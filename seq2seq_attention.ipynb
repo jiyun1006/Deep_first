{
  "nbformat": 4,
  "nbformat_minor": 0,
  "metadata": {
    "colab": {
      "name": "seq2seq_attention.ipynb",
      "provenance": [],
      "collapsed_sections": [],
      "toc_visible": true,
      "include_colab_link": true
    },
    "kernelspec": {
      "display_name": "Python 3",
      "name": "python3"
    },
    "accelerator": "GPU"
  },
  "cells": [
    {
      "cell_type": "markdown",
      "metadata": {
        "id": "view-in-github",
        "colab_type": "text"
      },
      "source": [
        "<a href=\"https://colab.research.google.com/github/jiyun1006/deeplearning-pytorch/blob/main/seq2seq_attention.ipynb\" target=\"_parent\"><img src=\"https://colab.research.google.com/assets/colab-badge.svg\" alt=\"Open In Colab\"/></a>"
      ]
    },
    {
      "cell_type": "markdown",
      "metadata": {
        "id": "9KsBGZpKkWki"
      },
      "source": [
        "##**6. Seq2seq + Attention**\r\n",
        "1. 여러 Attention 모듈을 구현합니다.\r\n",
        "2. 기존 Seq2seq 모델과의 차이를 이해합니다."
      ]
    },
    {
      "cell_type": "markdown",
      "metadata": {
        "id": "8qRU5DFY2OM8"
      },
      "source": [
        "### **필요 패키지 import**"
      ]
    },
    {
      "cell_type": "code",
      "metadata": {
        "id": "GOoDGkaFkrd2"
      },
      "source": [
        "from tqdm import tqdm\r\n",
        "from torch import nn\r\n",
        "from torch.nn.utils.rnn import pack_padded_sequence, pad_packed_sequence\r\n",
        "from torch.nn import functional as F\r\n",
        "\r\n",
        "import torch\r\n",
        "import random"
      ],
      "execution_count": null,
      "outputs": []
    },
    {
      "cell_type": "markdown",
      "metadata": {
        "id": "hz8nkrRZSysK"
      },
      "source": [
        "### **데이터 전처리**"
      ]
    },
    {
      "cell_type": "markdown",
      "metadata": {
        "id": "7DBRVAT32YEw"
      },
      "source": [
        "데이터 처리는 이전과 동일합니다."
      ]
    },
    {
      "cell_type": "code",
      "metadata": {
        "id": "1neCRvux8k6Z"
      },
      "source": [
        "vocab_size = 100\r\n",
        "pad_id = 0\r\n",
        "sos_id = 1\r\n",
        "eos_id = 2\r\n",
        "\r\n",
        "src_data = [\r\n",
        "  [3, 77, 56, 26, 3, 55, 12, 36, 31],\r\n",
        "  [58, 20, 65, 46, 26, 10, 76, 44],\r\n",
        "  [58, 17, 8],\r\n",
        "  [59],\r\n",
        "  [29, 3, 52, 74, 73, 51, 39, 75, 19],\r\n",
        "  [41, 55, 77, 21, 52, 92, 97, 69, 54, 14, 93],\r\n",
        "  [39, 47, 96, 68, 55, 16, 90, 45, 89, 84, 19, 22, 32, 99, 5],\r\n",
        "  [75, 34, 17, 3, 86, 88],\r\n",
        "  [63, 39, 5, 35, 67, 56, 68, 89, 55, 66],\r\n",
        "  [12, 40, 69, 39, 49]\r\n",
        "]\r\n",
        "\r\n",
        "trg_data = [\r\n",
        "  [75, 13, 22, 77, 89, 21, 13, 86, 95],\r\n",
        "  [79, 14, 91, 41, 32, 79, 88, 34, 8, 68, 32, 77, 58, 7, 9, 87],\r\n",
        "  [85, 8, 50, 30],\r\n",
        "  [47, 30],\r\n",
        "  [8, 85, 87, 77, 47, 21, 23, 98, 83, 4, 47, 97, 40, 43, 70, 8, 65, 71, 69, 88],\r\n",
        "  [32, 37, 31, 77, 38, 93, 45, 74, 47, 54, 31, 18],\r\n",
        "  [37, 14, 49, 24, 93, 37, 54, 51, 39, 84],\r\n",
        "  [16, 98, 68, 57, 55, 46, 66, 85, 18],\r\n",
        "  [20, 70, 14, 6, 58, 90, 30, 17, 91, 18, 90],\r\n",
        "  [37, 93, 98, 13, 45, 28, 89, 72, 70]\r\n",
        "]"
      ],
      "execution_count": null,
      "outputs": []
    },
    {
      "cell_type": "code",
      "metadata": {
        "id": "xwq5SNGUdCT9",
        "colab": {
          "base_uri": "https://localhost:8080/"
        },
        "outputId": "4887a6c5-e421-4cd7-bd8f-827fbf95418a"
      },
      "source": [
        "trg_data = [[sos_id]+seq+[eos_id] for seq in tqdm(trg_data)]"
      ],
      "execution_count": null,
      "outputs": [
        {
          "output_type": "stream",
          "text": [
            "100%|██████████| 10/10 [00:00<00:00, 4733.44it/s]\n"
          ],
          "name": "stderr"
        }
      ]
    },
    {
      "cell_type": "code",
      "metadata": {
        "id": "RSeExSrRAYg8"
      },
      "source": [
        "def padding(data, is_src=True):\r\n",
        "  max_len = len(max(data, key=len))\r\n",
        "  print(f\"Maximum sequence length: {max_len}\")\r\n",
        "\r\n",
        "  valid_lens = []\r\n",
        "  for i, seq in enumerate(tqdm(data)):\r\n",
        "    valid_lens.append(len(seq))\r\n",
        "    if len(seq) < max_len:\r\n",
        "      data[i] = seq + [pad_id] * (max_len - len(seq))\r\n",
        "\r\n",
        "  return data, valid_lens, max_len"
      ],
      "execution_count": null,
      "outputs": []
    },
    {
      "cell_type": "code",
      "metadata": {
        "id": "yCXaXdk-ApJu",
        "colab": {
          "base_uri": "https://localhost:8080/"
        },
        "outputId": "3b85c828-d76f-4690-e096-e2e6022ab577"
      },
      "source": [
        "src_data, src_lens, src_max_len = padding(src_data)\r\n",
        "trg_data, trg_lens, trg_max_len = padding(trg_data)"
      ],
      "execution_count": null,
      "outputs": [
        {
          "output_type": "stream",
          "text": [
            "100%|██████████| 10/10 [00:00<00:00, 65844.65it/s]\n",
            "100%|██████████| 10/10 [00:00<00:00, 20164.92it/s]"
          ],
          "name": "stderr"
        },
        {
          "output_type": "stream",
          "text": [
            "Maximum sequence length: 15\n",
            "Maximum sequence length: 22\n"
          ],
          "name": "stdout"
        },
        {
          "output_type": "stream",
          "text": [
            "\n"
          ],
          "name": "stderr"
        }
      ]
    },
    {
      "cell_type": "code",
      "metadata": {
        "id": "6F3Mx8pbAvqt",
        "colab": {
          "base_uri": "https://localhost:8080/"
        },
        "outputId": "3fab04e8-d332-4464-bd79-5ff63b926644"
      },
      "source": [
        "# B: batch size, S_L: source maximum sequence length, T_L: target maximum sequence length\r\n",
        "src_batch = torch.LongTensor(src_data)  # (B, S_L)\r\n",
        "src_batch_lens = torch.LongTensor(src_lens)  # (B)\r\n",
        "trg_batch = torch.LongTensor(trg_data)  # (B, T_L)\r\n",
        "trg_batch_lens = torch.LongTensor(trg_lens)  # (B)\r\n",
        "\r\n",
        "print(src_batch.shape)\r\n",
        "print(src_batch_lens.shape)\r\n",
        "print(trg_batch.shape)\r\n",
        "print(trg_batch_lens.shape)"
      ],
      "execution_count": null,
      "outputs": [
        {
          "output_type": "stream",
          "text": [
            "torch.Size([10, 15])\n",
            "torch.Size([10])\n",
            "torch.Size([10, 22])\n",
            "torch.Size([10])\n"
          ],
          "name": "stdout"
        }
      ]
    },
    {
      "cell_type": "code",
      "metadata": {
        "id": "jxmvrpQABWn8",
        "colab": {
          "base_uri": "https://localhost:8080/"
        },
        "outputId": "eb094134-be85-46e6-9b3d-bf4cc3e082d8"
      },
      "source": [
        "src_batch_lens, sorted_idx = src_batch_lens.sort(descending=True)\r\n",
        "src_batch = src_batch[sorted_idx]\r\n",
        "trg_batch = trg_batch[sorted_idx]\r\n",
        "trg_batch_lens = trg_batch_lens[sorted_idx]\r\n",
        "\r\n",
        "print(src_batch)\r\n",
        "print(src_batch_lens)\r\n",
        "print(trg_batch)\r\n",
        "print(trg_batch_lens)"
      ],
      "execution_count": null,
      "outputs": [
        {
          "output_type": "stream",
          "text": [
            "tensor([[39, 47, 96, 68, 55, 16, 90, 45, 89, 84, 19, 22, 32, 99,  5],\n",
            "        [41, 55, 77, 21, 52, 92, 97, 69, 54, 14, 93,  0,  0,  0,  0],\n",
            "        [63, 39,  5, 35, 67, 56, 68, 89, 55, 66,  0,  0,  0,  0,  0],\n",
            "        [ 3, 77, 56, 26,  3, 55, 12, 36, 31,  0,  0,  0,  0,  0,  0],\n",
            "        [29,  3, 52, 74, 73, 51, 39, 75, 19,  0,  0,  0,  0,  0,  0],\n",
            "        [58, 20, 65, 46, 26, 10, 76, 44,  0,  0,  0,  0,  0,  0,  0],\n",
            "        [75, 34, 17,  3, 86, 88,  0,  0,  0,  0,  0,  0,  0,  0,  0],\n",
            "        [12, 40, 69, 39, 49,  0,  0,  0,  0,  0,  0,  0,  0,  0,  0],\n",
            "        [58, 17,  8,  0,  0,  0,  0,  0,  0,  0,  0,  0,  0,  0,  0],\n",
            "        [59,  0,  0,  0,  0,  0,  0,  0,  0,  0,  0,  0,  0,  0,  0]])\n",
            "tensor([15, 11, 10,  9,  9,  8,  6,  5,  3,  1])\n",
            "tensor([[ 1, 37, 14, 49, 24, 93, 37, 54, 51, 39, 84,  2,  0,  0,  0,  0,  0,  0,\n",
            "          0,  0,  0,  0],\n",
            "        [ 1, 32, 37, 31, 77, 38, 93, 45, 74, 47, 54, 31, 18,  2,  0,  0,  0,  0,\n",
            "          0,  0,  0,  0],\n",
            "        [ 1, 20, 70, 14,  6, 58, 90, 30, 17, 91, 18, 90,  2,  0,  0,  0,  0,  0,\n",
            "          0,  0,  0,  0],\n",
            "        [ 1, 75, 13, 22, 77, 89, 21, 13, 86, 95,  2,  0,  0,  0,  0,  0,  0,  0,\n",
            "          0,  0,  0,  0],\n",
            "        [ 1,  8, 85, 87, 77, 47, 21, 23, 98, 83,  4, 47, 97, 40, 43, 70,  8, 65,\n",
            "         71, 69, 88,  2],\n",
            "        [ 1, 79, 14, 91, 41, 32, 79, 88, 34,  8, 68, 32, 77, 58,  7,  9, 87,  2,\n",
            "          0,  0,  0,  0],\n",
            "        [ 1, 16, 98, 68, 57, 55, 46, 66, 85, 18,  2,  0,  0,  0,  0,  0,  0,  0,\n",
            "          0,  0,  0,  0],\n",
            "        [ 1, 37, 93, 98, 13, 45, 28, 89, 72, 70,  2,  0,  0,  0,  0,  0,  0,  0,\n",
            "          0,  0,  0,  0],\n",
            "        [ 1, 85,  8, 50, 30,  2,  0,  0,  0,  0,  0,  0,  0,  0,  0,  0,  0,  0,\n",
            "          0,  0,  0,  0],\n",
            "        [ 1, 47, 30,  2,  0,  0,  0,  0,  0,  0,  0,  0,  0,  0,  0,  0,  0,  0,\n",
            "          0,  0,  0,  0]])\n",
            "tensor([12, 14, 13, 11, 22, 18, 11, 11,  6,  4])\n"
          ],
          "name": "stdout"
        }
      ]
    },
    {
      "cell_type": "markdown",
      "metadata": {
        "id": "emD3bFjS2vEn"
      },
      "source": [
        "### **Encoder 구현**"
      ]
    },
    {
      "cell_type": "markdown",
      "metadata": {
        "id": "y5k9sSui29yP"
      },
      "source": [
        "Encoder 역시 기존 Seq2seq 모델과 동일합니다."
      ]
    },
    {
      "cell_type": "code",
      "metadata": {
        "id": "MmhCME-PDUJ8"
      },
      "source": [
        "embedding_size = 256\r\n",
        "hidden_size = 512\r\n",
        "num_layers = 2\r\n",
        "num_dirs = 2\r\n",
        "dropout = 0.1"
      ],
      "execution_count": null,
      "outputs": []
    },
    {
      "cell_type": "code",
      "metadata": {
        "id": "epZDaDO-FMPu"
      },
      "source": [
        "class Encoder(nn.Module):\r\n",
        "  def __init__(self):\r\n",
        "    super(Encoder, self).__init__()\r\n",
        "\r\n",
        "    self.embedding = nn.Embedding(vocab_size, embedding_size)\r\n",
        "    self.gru = nn.GRU(\r\n",
        "        input_size=embedding_size, \r\n",
        "        hidden_size=hidden_size,\r\n",
        "        num_layers=num_layers,\r\n",
        "        bidirectional=True if num_dirs > 1 else False,\r\n",
        "        dropout=dropout\r\n",
        "    )\r\n",
        "    self.linear = nn.Linear(num_dirs * hidden_size, hidden_size)\r\n",
        "\r\n",
        "  def forward(self, batch, batch_lens):  # batch: (B, S_L), batch_lens: (B)\r\n",
        "    # d_w: word embedding size\r\n",
        "    batch_emb = self.embedding(batch)  # (B, S_L, d_w)\r\n",
        "    batch_emb = batch_emb.transpose(0, 1)  # (S_L, B, d_w)\r\n",
        "\r\n",
        "    packed_input = pack_padded_sequence(batch_emb, batch_lens)\r\n",
        "\r\n",
        "    h_0 = torch.zeros((num_layers * num_dirs, batch.shape[0], hidden_size))  # (num_layers*num_dirs, B, d_h) = (4, B, d_h)\r\n",
        "    packed_outputs, h_n = self.gru(packed_input, h_0)  # h_n: (4, B, d_h)\r\n",
        "    outputs = pad_packed_sequence(packed_outputs)[0]  # outputs: (S_L, B, 2d_h)\r\n",
        "    # 차원을 줄이고, non linear 인 tanh를 거친다.\r\n",
        "    outputs = torch.tanh(self.linear(outputs))  # (S_L, B, d_h)\r\n",
        "\r\n",
        "    forward_hidden = h_n[-2, :, :]\r\n",
        "    backward_hidden = h_n[-1, :, :]\r\n",
        "    hidden = torch.tanh(self.linear(torch.cat((forward_hidden, backward_hidden), dim=-1))).unsqueeze(0)  # (1, B, d_h)\r\n",
        "\r\n",
        "    return outputs, hidden"
      ],
      "execution_count": null,
      "outputs": []
    },
    {
      "cell_type": "code",
      "metadata": {
        "id": "ZEdSnKZkIedk"
      },
      "source": [
        "encoder = Encoder()"
      ],
      "execution_count": null,
      "outputs": []
    },
    {
      "cell_type": "markdown",
      "metadata": {
        "id": "4w5G0uy4TiFA"
      },
      "source": [
        "### **Dot-product Attention 구현**"
      ]
    },
    {
      "cell_type": "markdown",
      "metadata": {
        "id": "8-sPMEBEcRqP"
      },
      "source": [
        "우선 대표적인 attention 형태 중 하나인 Dot-product Attention은 다음과 같이 구현할 수 있습니다.\r\n",
        "\r\n"
      ]
    },
    {
      "cell_type": "code",
      "metadata": {
        "id": "sEB-og7IcYN6"
      },
      "source": [
        "class DotAttention(nn.Module):\r\n",
        "  def __init__(self):\r\n",
        "    super().__init__()\r\n",
        "\r\n",
        "  def forward(self, decoder_hidden, encoder_outputs):  # (1, B, d_h), (S_L, B, d_h)\r\n",
        "    query = decoder_hidden.squeeze(0)  # (B, d_h)\r\n",
        "    key = encoder_outputs.transpose(0, 1)  # (B, S_L, d_h)\r\n",
        "\r\n",
        "    # 내적 --> 유사도 (key와 query)\r\n",
        "    # 각 encoder hidden state의 길이만큼 반복적으로 각 차원을 곱하고, 더한다.\r\n",
        "    energy = torch.sum(torch.mul(key, query.unsqueeze(1)), dim=-1)  # (B, S_L)\r\n",
        "\r\n",
        "    # 내적(유사도)를 소프트맥스 함수에 적용한다.\r\n",
        "    attn_scores = F.softmax(energy, dim=-1)  # (B, S_L)\r\n",
        "    \r\n",
        "    # 그 후에 가중치를 구한다.\r\n",
        "    # 각 encoder hidden state에 적용되는 가중치로 나타내기 위해 해당 연산을 한다.\r\n",
        "    attn_values = torch.sum(torch.mul(encoder_outputs.transpose(0, 1), attn_scores.unsqueeze(2)), dim=1)  # (B, d_h)\r\n",
        "\r\n",
        "    return attn_values, attn_scores"
      ],
      "execution_count": null,
      "outputs": []
    },
    {
      "cell_type": "code",
      "metadata": {
        "id": "cIARwx4IjuuG"
      },
      "source": [
        "dot_attn = DotAttention()"
      ],
      "execution_count": null,
      "outputs": []
    },
    {
      "cell_type": "markdown",
      "metadata": {
        "id": "r94WCkbCjMnz"
      },
      "source": [
        "이제 이 attention 모듈을 가지는 Decoder 클래스를 구현하겠습니다."
      ]
    },
    {
      "cell_type": "code",
      "metadata": {
        "id": "9JycRs0ojLyg"
      },
      "source": [
        "class Decoder(nn.Module):\r\n",
        "  def __init__(self, attention):\r\n",
        "    super().__init__()\r\n",
        "\r\n",
        "    self.embedding = nn.Embedding(vocab_size, embedding_size)\r\n",
        "    self.attention = attention\r\n",
        "    self.rnn = nn.GRU(\r\n",
        "        embedding_size,\r\n",
        "        hidden_size\r\n",
        "    )\r\n",
        "    self.output_linear = nn.Linear(2*hidden_size, vocab_size)\r\n",
        "\r\n",
        "  def forward(self, batch, encoder_outputs, hidden):  # batch: (B), encoder_outputs: (L, B, d_h), hidden: (1, B, d_h)  \r\n",
        "    batch_emb = self.embedding(batch)  # (B, d_w)\r\n",
        "    batch_emb = batch_emb.unsqueeze(0)  # (1, B, d_w)\r\n",
        "\r\n",
        "    outputs, hidden = self.rnn(batch_emb, hidden)  # (1, B, d_h), (1, B, d_h)\r\n",
        "\r\n",
        "    attn_values, attn_scores = self.attention(hidden, encoder_outputs)  # (B, d_h), (B, S_L)\r\n",
        "    concat_outputs = torch.cat((outputs, attn_values.unsqueeze(0)), dim=-1)  # (1, B, 2d_h)\r\n",
        "\r\n",
        "    return self.output_linear(concat_outputs).squeeze(0), hidden  # (B, V), (1, B, d_h)"
      ],
      "execution_count": null,
      "outputs": []
    },
    {
      "cell_type": "code",
      "metadata": {
        "id": "45GG2CvOjwzE"
      },
      "source": [
        "decoder = Decoder(dot_attn)"
      ],
      "execution_count": null,
      "outputs": []
    },
    {
      "cell_type": "markdown",
      "metadata": {
        "id": "BZ1NzYZROrOu"
      },
      "source": [
        "### **Seq2seq 모델 구축**"
      ]
    },
    {
      "cell_type": "markdown",
      "metadata": {
        "id": "XEYvsQS0Ovp6"
      },
      "source": [
        "최종적으로 seq2seq 모델을 다음과 같이 구성할 수 있습니다."
      ]
    },
    {
      "cell_type": "code",
      "metadata": {
        "id": "M52xKNVeF37N"
      },
      "source": [
        "class Seq2seq(nn.Module):\r\n",
        "  def __init__(self, encoder, decoder):\r\n",
        "    super(Seq2seq, self).__init__()\r\n",
        "\r\n",
        "    self.encoder = encoder\r\n",
        "    self.decoder = decoder\r\n",
        "\r\n",
        "  def forward(self, src_batch, src_batch_lens, trg_batch, teacher_forcing_prob=0.5):\r\n",
        "    # src_batch: (B, S_L), src_batch_lens: (B), trg_batch: (B, T_L)\r\n",
        "\r\n",
        "    encoder_outputs, hidden = self.encoder(src_batch, src_batch_lens)  # encoder_outputs: (S_L, B, d_h), hidden: (1, B, d_h)\r\n",
        "\r\n",
        "    input_ids = trg_batch[:, 0]  # (B)\r\n",
        "    batch_size = src_batch.shape[0]\r\n",
        "    outputs = torch.zeros(trg_max_len, batch_size, vocab_size)  # (T_L, B, V)\r\n",
        "\r\n",
        "    for t in range(1, trg_max_len):\r\n",
        "      decoder_outputs, hidden = self.decoder(input_ids, encoder_outputs, hidden)  # decoder_outputs: (B, V), hidden: (1, B, d_h)\r\n",
        "\r\n",
        "      outputs[t] = decoder_outputs\r\n",
        "      _, top_ids = torch.max(decoder_outputs, dim=-1)  # top_ids: (B)\r\n",
        "\r\n",
        "      input_ids = trg_batch[:, t] if random.random() > teacher_forcing_prob else top_ids\r\n",
        "\r\n",
        "    return outputs"
      ],
      "execution_count": null,
      "outputs": []
    },
    {
      "cell_type": "code",
      "metadata": {
        "id": "wNv7wlRgPIYS"
      },
      "source": [
        "seq2seq = Seq2seq(encoder, decoder)"
      ],
      "execution_count": null,
      "outputs": []
    },
    {
      "cell_type": "markdown",
      "metadata": {
        "id": "kFwbnxd7PVNf"
      },
      "source": [
        "### **모델 사용해보기**"
      ]
    },
    {
      "cell_type": "markdown",
      "metadata": {
        "id": "ZIprc5N2jaV2"
      },
      "source": [
        "만든 모델로 결과를 확인해보겠습니다."
      ]
    },
    {
      "cell_type": "code",
      "metadata": {
        "id": "aKdTDHqsiLbs",
        "colab": {
          "base_uri": "https://localhost:8080/"
        },
        "outputId": "500746d1-5fba-4e87-f24c-ec3792af71c1"
      },
      "source": [
        "# V: vocab size\r\n",
        "outputs = seq2seq(src_batch, src_batch_lens, trg_batch)  # (T_L, B, V)\r\n",
        "\r\n",
        "print(outputs)\r\n",
        "print(outputs.shape)"
      ],
      "execution_count": null,
      "outputs": [
        {
          "output_type": "stream",
          "text": [
            "tensor([[[ 0.0000e+00,  0.0000e+00,  0.0000e+00,  ...,  0.0000e+00,\n",
            "           0.0000e+00,  0.0000e+00],\n",
            "         [ 0.0000e+00,  0.0000e+00,  0.0000e+00,  ...,  0.0000e+00,\n",
            "           0.0000e+00,  0.0000e+00],\n",
            "         [ 0.0000e+00,  0.0000e+00,  0.0000e+00,  ...,  0.0000e+00,\n",
            "           0.0000e+00,  0.0000e+00],\n",
            "         ...,\n",
            "         [ 0.0000e+00,  0.0000e+00,  0.0000e+00,  ...,  0.0000e+00,\n",
            "           0.0000e+00,  0.0000e+00],\n",
            "         [ 0.0000e+00,  0.0000e+00,  0.0000e+00,  ...,  0.0000e+00,\n",
            "           0.0000e+00,  0.0000e+00],\n",
            "         [ 0.0000e+00,  0.0000e+00,  0.0000e+00,  ...,  0.0000e+00,\n",
            "           0.0000e+00,  0.0000e+00]],\n",
            "\n",
            "        [[ 3.2852e-02, -8.9248e-02,  1.1767e-01,  ...,  9.4143e-02,\n",
            "           5.7781e-02, -1.1066e-01],\n",
            "         [ 2.2459e-02, -5.7042e-02,  1.3274e-01,  ...,  1.0073e-01,\n",
            "           9.6394e-02, -7.0139e-02],\n",
            "         [ 4.6393e-02, -8.2961e-02,  1.3525e-01,  ...,  1.1890e-01,\n",
            "           5.3660e-02, -1.0996e-01],\n",
            "         ...,\n",
            "         [ 3.5319e-02, -7.2229e-02,  1.0497e-01,  ...,  8.7701e-02,\n",
            "           7.1794e-02, -8.4826e-02],\n",
            "         [-5.1987e-03, -6.1950e-02,  8.7843e-02,  ...,  1.0488e-01,\n",
            "           8.1399e-02, -9.8387e-02],\n",
            "         [-8.3563e-04, -5.9893e-02,  1.2742e-01,  ...,  1.0457e-01,\n",
            "           9.4284e-02, -8.4062e-02]],\n",
            "\n",
            "        [[-5.0381e-02, -2.4261e-01,  3.4974e-02,  ..., -7.6198e-02,\n",
            "           3.2549e-02, -4.2518e-02],\n",
            "         [ 2.2409e-02,  2.3703e-02,  1.1956e-01,  ...,  7.5307e-02,\n",
            "          -9.5747e-03,  1.0945e-03],\n",
            "         [-2.3012e-02, -8.0847e-02,  4.5891e-02,  ...,  1.0731e-01,\n",
            "           1.7497e-01, -1.3398e-01],\n",
            "         ...,\n",
            "         [-4.7863e-02, -2.1784e-01,  1.8058e-02,  ..., -8.1587e-02,\n",
            "           4.7160e-02, -2.9010e-02],\n",
            "         [-4.7326e-02, -8.1400e-02, -5.4023e-02,  ..., -9.1545e-02,\n",
            "           9.7825e-02,  2.4926e-02],\n",
            "         [-3.8570e-02,  1.5342e-02, -9.6473e-02,  ...,  1.0931e-01,\n",
            "           1.0200e-01, -1.5507e-01]],\n",
            "\n",
            "        ...,\n",
            "\n",
            "        [[-8.0072e-03,  1.6048e-02,  4.6822e-02,  ..., -5.5068e-02,\n",
            "          -1.0741e-01,  1.1327e-01],\n",
            "         [-1.1239e-02,  3.3008e-02,  5.6291e-02,  ..., -6.7093e-02,\n",
            "          -7.2381e-02,  1.1859e-01],\n",
            "         [ 5.3078e-02,  2.4453e-02,  1.9697e-05,  ..., -3.8239e-02,\n",
            "          -8.8748e-02,  9.3240e-02],\n",
            "         ...,\n",
            "         [-8.3539e-03, -2.0203e-02, -1.4067e-02,  ..., -1.0626e-01,\n",
            "          -1.0281e-01,  6.3724e-03],\n",
            "         [ 4.4249e-02,  4.1478e-02, -2.2616e-02,  ..., -6.1260e-02,\n",
            "          -8.8235e-02,  8.9936e-02],\n",
            "         [-2.0024e-02,  2.6042e-02,  3.0910e-02,  ..., -6.1939e-02,\n",
            "          -8.8110e-02,  1.0128e-01]],\n",
            "\n",
            "        [[ 7.1514e-03,  2.9724e-02,  5.2083e-02,  ..., -7.9644e-02,\n",
            "          -1.2660e-01,  1.0852e-01],\n",
            "         [ 1.0351e-02,  4.7948e-02,  6.1736e-02,  ..., -9.1139e-02,\n",
            "          -9.0110e-02,  1.1180e-01],\n",
            "         [ 4.6611e-02,  4.3687e-02,  2.2016e-02,  ..., -5.7471e-02,\n",
            "          -1.1151e-01,  9.9345e-02],\n",
            "         ...,\n",
            "         [ 1.3892e-02, -1.2787e-03,  1.5532e-02,  ..., -1.0541e-01,\n",
            "          -1.0208e-01,  6.0414e-02],\n",
            "         [ 3.9607e-02,  5.7780e-02, -5.4961e-03,  ..., -7.9192e-02,\n",
            "          -1.1294e-01,  9.5129e-02],\n",
            "         [-1.0552e-03,  4.5471e-02,  4.0147e-02,  ..., -8.3700e-02,\n",
            "          -1.0636e-01,  9.6776e-02]],\n",
            "\n",
            "        [[ 3.4406e-02, -1.7565e-02,  2.1664e-02,  ..., -4.5660e-02,\n",
            "          -3.1350e-02,  8.7053e-02],\n",
            "         [ 2.9644e-02,  5.5038e-03,  2.9643e-02,  ..., -6.0985e-02,\n",
            "           3.1445e-03,  9.6588e-02],\n",
            "         [ 5.2875e-02, -1.4862e-03, -4.2479e-03,  ..., -3.0678e-02,\n",
            "          -1.6854e-02,  8.3243e-02],\n",
            "         ...,\n",
            "         [ 4.8734e-02, -1.5032e-01, -8.5891e-02,  ..., -2.2554e-01,\n",
            "          -8.9421e-02, -2.6176e-02],\n",
            "         [-1.3703e-01,  4.5926e-04,  1.0102e-01,  ..., -4.3546e-02,\n",
            "           7.4752e-03,  1.4299e-01],\n",
            "         [ 1.6770e-02,  6.3587e-03,  6.4820e-03,  ..., -5.3646e-02,\n",
            "          -1.3746e-02,  7.9476e-02]]], grad_fn=<CopySlices>)\n",
            "torch.Size([22, 10, 100])\n"
          ],
          "name": "stdout"
        }
      ]
    },
    {
      "cell_type": "code",
      "metadata": {
        "id": "R-wAEwi9dy0Q"
      },
      "source": [
        "sample_sent = [4, 10, 88, 46, 72, 34, 14, 51]\r\n",
        "sample_len = len(sample_sent)\r\n",
        "\r\n",
        "sample_batch = torch.LongTensor(sample_sent).unsqueeze(0)  # (1, L)\r\n",
        "sample_batch_len = torch.LongTensor([sample_len])  # (1)\r\n",
        "\r\n",
        "encoder_output, hidden = seq2seq.encoder(sample_batch, sample_batch_len)  # hidden: (4, 1, d_h)"
      ],
      "execution_count": null,
      "outputs": []
    },
    {
      "cell_type": "code",
      "metadata": {
        "id": "-ywRSK1iTn1U"
      },
      "source": [
        "input_id = torch.LongTensor([sos_id]) # (1)\r\n",
        "output = []\r\n",
        "\r\n",
        "for t in range(1, trg_max_len):\r\n",
        "  decoder_output, hidden = seq2seq.decoder(input_id, encoder_output, hidden)  # decoder_output: (1, V), hidden: (4, 1, d_h)\r\n",
        "\r\n",
        "  _, top_id = torch.max(decoder_output, dim=-1)  # top_ids: (1)\r\n",
        "\r\n",
        "  if top_id == eos_id:\r\n",
        "    break\r\n",
        "  else:\r\n",
        "    output += top_id.tolist()\r\n",
        "    input_id = top_id"
      ],
      "execution_count": null,
      "outputs": []
    },
    {
      "cell_type": "code",
      "metadata": {
        "id": "pP_A4ZrhTXik",
        "colab": {
          "base_uri": "https://localhost:8080/"
        },
        "outputId": "3f358089-c9e4-4938-dd23-a4d043bd5390"
      },
      "source": [
        "output"
      ],
      "execution_count": null,
      "outputs": [
        {
          "output_type": "execute_result",
          "data": {
            "text/plain": [
              "[62,\n",
              " 52,\n",
              " 46,\n",
              " 29,\n",
              " 29,\n",
              " 29,\n",
              " 29,\n",
              " 29,\n",
              " 61,\n",
              " 29,\n",
              " 29,\n",
              " 29,\n",
              " 29,\n",
              " 29,\n",
              " 61,\n",
              " 33,\n",
              " 27,\n",
              " 27,\n",
              " 74,\n",
              " 74,\n",
              " 87]"
            ]
          },
          "metadata": {
            "tags": []
          },
          "execution_count": 22
        }
      ]
    },
    {
      "cell_type": "markdown",
      "metadata": {
        "id": "x4TZfceq3Nbs"
      },
      "source": [
        "### **Concat Attention 구현**"
      ]
    },
    {
      "cell_type": "markdown",
      "metadata": {
        "id": "FYxpAQjm3Y9U"
      },
      "source": [
        "Bahdanau Attention이라고도 불리는 Concat Attention을 구현해보도록 하겠습니다.  \r\n",
        "\r\n",
        "\r\n",
        "*   `self.w`: Concat한 query와 key 벡터를 1차적으로 linear transformation.\r\n",
        "*   `self.v`: Attention logit 값을 계산.\r\n",
        "\r\n"
      ]
    },
    {
      "cell_type": "code",
      "metadata": {
        "id": "MHRfFeIzJJU7"
      },
      "source": [
        "class ConcatAttention(nn.Module):\r\n",
        "  def __init__(self):\r\n",
        "    super().__init__()\r\n",
        "\r\n",
        "    self.w = nn.Linear(2*hidden_size, hidden_size, bias=False)\r\n",
        "    self.v = nn.Linear(hidden_size, 1, bias=False)\r\n",
        "\r\n",
        "  def forward(self, decoder_hidden, encoder_outputs):  # (1, B, d_h), (S_L, B, d_h)\r\n",
        "    src_max_len = encoder_outputs.shape[0]\r\n",
        "\r\n",
        "    decoder_hidden = decoder_hidden.transpose(0, 1).repeat(1, src_max_len, 1)  # (B, S_L, d_h)\r\n",
        "    encoder_outputs = encoder_outputs.transpose(0, 1)  # (B, S_L, d_h)\r\n",
        "\r\n",
        "    concat_hiddens = torch.cat((decoder_hidden, encoder_outputs), dim=2)  # (B, S_L, 2d_h)\r\n",
        "    energy = torch.tanh(self.w(concat_hiddens))  # (B, S_L, d_h)\r\n",
        "\r\n",
        "    attn_scores = F.softmax(self.v(energy), dim=1)  # (B, S_L, 1)\r\n",
        "    attn_values = torch.sum(torch.mul(encoder_outputs, attn_scores), dim=1)  # (B, d_h)\r\n",
        "\r\n",
        "    return attn_values, attn_scores"
      ],
      "execution_count": null,
      "outputs": []
    },
    {
      "cell_type": "code",
      "metadata": {
        "id": "utm4b5uzNS40"
      },
      "source": [
        "concat_attn = ConcatAttention()"
      ],
      "execution_count": null,
      "outputs": []
    },
    {
      "cell_type": "markdown",
      "metadata": {
        "id": "CBBCV9G-M1cw"
      },
      "source": [
        "마찬가지로 decoder를 마저 구현하겠습니다."
      ]
    },
    {
      "cell_type": "code",
      "metadata": {
        "id": "FnppmsXNSaGP"
      },
      "source": [
        "class Decoder(nn.Module):\r\n",
        "  def __init__(self, attention):\r\n",
        "    super().__init__()\r\n",
        "\r\n",
        "    self.embedding = nn.Embedding(vocab_size, embedding_size)\r\n",
        "    self.attention = attention\r\n",
        "    self.rnn = nn.GRU(\r\n",
        "        embedding_size + hidden_size,\r\n",
        "        hidden_size\r\n",
        "    )\r\n",
        "    self.output_linear = nn.Linear(hidden_size, vocab_size)\r\n",
        "\r\n",
        "  def forward(self, batch, encoder_outputs, hidden):  # batch: (B), encoder_outputs: (S_L, B, d_h), hidden: (1, B, d_h)  \r\n",
        "    batch_emb = self.embedding(batch)  # (B, d_w)\r\n",
        "    batch_emb = batch_emb.unsqueeze(0)  # (1, B, d_w)\r\n",
        "\r\n",
        "    attn_values, attn_scores = self.attention(hidden, encoder_outputs)  # (B, d_h), (B, S_L)\r\n",
        "\r\n",
        "    concat_emb = torch.cat((batch_emb, attn_values.unsqueeze(0)), dim=-1)  # (1, B, d_w+d_h)\r\n",
        "\r\n",
        "    outputs, hidden = self.rnn(concat_emb, hidden)  # (1, B, d_h), (1, B, d_h)\r\n",
        "\r\n",
        "    return self.output_linear(outputs).squeeze(0), hidden  # (B, V), (1, B, d_h)"
      ],
      "execution_count": null,
      "outputs": []
    },
    {
      "cell_type": "code",
      "metadata": {
        "id": "4gA4GJqgOoMT"
      },
      "source": [
        "decoder = Decoder(concat_attn)"
      ],
      "execution_count": null,
      "outputs": []
    },
    {
      "cell_type": "code",
      "metadata": {
        "id": "AQI9J0VGj4cc"
      },
      "source": [
        "seq2seq = Seq2seq(encoder, decoder)"
      ],
      "execution_count": null,
      "outputs": []
    },
    {
      "cell_type": "code",
      "metadata": {
        "id": "D6suDtTxj4ce"
      },
      "source": [
        "outputs = seq2seq(src_batch, src_batch_lens, trg_batch)\r\n",
        "\r\n",
        "print(outputs)\r\n",
        "print(outputs.shape)"
      ],
      "execution_count": null,
      "outputs": []
    }
  ]
}