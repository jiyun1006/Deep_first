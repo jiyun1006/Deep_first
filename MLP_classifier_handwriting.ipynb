{
  "nbformat": 4,
  "nbformat_minor": 0,
  "metadata": {
    "colab": {
      "name": "MLP_classifier_handwriting.ipynb",
      "private_outputs": true,
      "provenance": [],
      "mount_file_id": "1AEOEDztCXmh8wREXsbq-nChHynAFf_lg",
      "authorship_tag": "ABX9TyMdziLA3d7ws03iWgsA7lMA",
      "include_colab_link": true
    },
    "kernelspec": {
      "name": "python3",
      "display_name": "Python 3"
    },
    "accelerator": "GPU"
  },
  "cells": [
    {
      "cell_type": "markdown",
      "metadata": {
        "id": "view-in-github",
        "colab_type": "text"
      },
      "source": [
        "<a href=\"https://colab.research.google.com/github/jiyun1006/Deep_first/blob/main/MLP_classifier_handwriting.ipynb\" target=\"_parent\"><img src=\"https://colab.research.google.com/assets/colab-badge.svg\" alt=\"Open In Colab\"/></a>"
      ]
    },
    {
      "cell_type": "markdown",
      "metadata": {
        "id": "6RS72i_B6mY2"
      },
      "source": [
        "# 활성화 함수\n",
        "\n"
      ]
    },
    {
      "cell_type": "code",
      "metadata": {
        "id": "mGKRRnYN6cGF"
      },
      "source": [
        "import torch\n",
        "import torch.nn as nn\n",
        "import torch.optim as optim\n",
        "import matplotlib.pyplot as plt\n",
        "import numpy as np\n",
        "\n",
        "device = 'cuda' if torch.cuda.is_available() else 'cpu'\n",
        "torch.manual_seed(777)\n",
        "if device == 'cuda':\n",
        "  torch.cuda.manual_seed(777)"
      ],
      "execution_count": null,
      "outputs": []
    },
    {
      "cell_type": "markdown",
      "metadata": {
        "id": "CDBwICg-8dMB"
      },
      "source": [
        "##ReLU "
      ]
    },
    {
      "cell_type": "code",
      "metadata": {
        "id": "GHYHXTF88fpd"
      },
      "source": [
        "def relu(x):\n",
        "  return np.maximum(0,x)\n",
        "\n",
        "x = np.arange(-5.0, 5.0, 0.1)\n",
        "y = relu(x)\n",
        "\n",
        "plt.plot(x,y)\n",
        "plt.plot([0,0], [5.0, 0.0], ':')\n",
        "plt.title('Relu Function')\n",
        "plt.show()"
      ],
      "execution_count": null,
      "outputs": []
    },
    {
      "cell_type": "markdown",
      "metadata": {
        "id": "4CRBmc__9llS"
      },
      "source": [
        "# 다층 퍼셉트론으로 손글씨 분류"
      ]
    },
    {
      "cell_type": "code",
      "metadata": {
        "id": "bsIH5Gv29lb5"
      },
      "source": [
        "%matplotlib inline\n",
        "import matplotlib.pyplot as plt\n",
        "from sklearn.datasets import load_digits\n",
        "digits = load_digits()"
      ],
      "execution_count": null,
      "outputs": []
    },
    {
      "cell_type": "code",
      "metadata": {
        "id": "VSde6sFI87re"
      },
      "source": [
        "# 임의의 인덱스의 이미지를 행렬로 출력\n",
        "\n",
        "print(digits.images[0])"
      ],
      "execution_count": null,
      "outputs": []
    },
    {
      "cell_type": "code",
      "metadata": {
        "id": "7pzMmP-E-UpI"
      },
      "source": [
        "print(f'전체 샘플의 수 : {len(digits.images)}')"
      ],
      "execution_count": null,
      "outputs": []
    },
    {
      "cell_type": "code",
      "metadata": {
        "id": "JknRlncJ-aIb"
      },
      "source": [
        "images_and_labels = list(zip(digits.images, digits.target))\n",
        "\n",
        "for index, (image, label) in enumerate(images_and_labels[:5]):\n",
        "  plt.subplot(2,5, index+1)\n",
        "  plt.axis('off')\n",
        "  plt.imshow(image, cmap=plt.cm.gray_r, interpolation='nearest')\n",
        "  plt.title('sample : %i'% label)"
      ],
      "execution_count": null,
      "outputs": []
    },
    {
      "cell_type": "code",
      "metadata": {
        "id": "cs2aGEW1_uYI"
      },
      "source": [
        "X = digits.data\n",
        "Y = digits.target"
      ],
      "execution_count": null,
      "outputs": []
    },
    {
      "cell_type": "code",
      "metadata": {
        "id": "7ayb6ayr_yNO"
      },
      "source": [
        "model = nn.Sequential(\n",
        "    nn.Linear(64,32),   # input 64, hidden 32\n",
        "    nn.ReLU(),\n",
        "    nn.Linear(32,16),   # input 32, hidden 16\n",
        "    nn.ReLU(),\n",
        "    nn.Linear(16,10)    # input 16, hidden 10\n",
        ")"
      ],
      "execution_count": null,
      "outputs": []
    },
    {
      "cell_type": "code",
      "metadata": {
        "id": "QiUxtHTEAGXY"
      },
      "source": [
        "X = torch.tensor(X, dtype=torch.float32)\n",
        "Y = torch.tensor(Y, dtype=torch.int64)"
      ],
      "execution_count": null,
      "outputs": []
    },
    {
      "cell_type": "code",
      "metadata": {
        "id": "7XT7cHVPAN2M"
      },
      "source": [
        "loss_fn = nn.CrossEntropyLoss()"
      ],
      "execution_count": null,
      "outputs": []
    },
    {
      "cell_type": "code",
      "metadata": {
        "id": "iw79ptFGAOkx"
      },
      "source": [
        "optimizer = optim.Adam(model.parameters())"
      ],
      "execution_count": null,
      "outputs": []
    },
    {
      "cell_type": "code",
      "metadata": {
        "id": "5DbhYuitATO2"
      },
      "source": [
        "losses = []"
      ],
      "execution_count": null,
      "outputs": []
    },
    {
      "cell_type": "code",
      "metadata": {
        "id": "iMnSjUQDAU-s"
      },
      "source": [
        "for epoch in range(100):\n",
        "  optimizer.zero_grad()\n",
        "  y_pred = model(X)\n",
        "  loss = loss_fn(y_pred, Y)\n",
        "  loss.backward()\n",
        "  optimizer.step()\n",
        "\n",
        "  if epoch % 10 == 0:\n",
        "    print(f'Epoch {epoch:4}/100 Cost : {loss.item():.6f}')\n",
        "\n",
        "  losses.append(loss.item())"
      ],
      "execution_count": null,
      "outputs": []
    },
    {
      "cell_type": "code",
      "metadata": {
        "id": "vYIcrqx8BIE3"
      },
      "source": [
        "plt.plot(losses)"
      ],
      "execution_count": null,
      "outputs": []
    }
  ]
}