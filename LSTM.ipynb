{
  "nbformat": 4,
  "nbformat_minor": 0,
  "metadata": {
    "colab": {
      "name": "LSTM.ipynb",
      "private_outputs": true,
      "provenance": [],
      "collapsed_sections": [],
      "authorship_tag": "ABX9TyPjT3xpKR4PafwV18pizl/Y",
      "include_colab_link": true
    },
    "kernelspec": {
      "name": "python3",
      "display_name": "Python 3"
    },
    "accelerator": "GPU"
  },
  "cells": [
    {
      "cell_type": "markdown",
      "metadata": {
        "id": "view-in-github",
        "colab_type": "text"
      },
      "source": [
        "<a href=\"https://colab.research.google.com/github/jiyun1006/Deep_first/blob/main/LSTM.ipynb\" target=\"_parent\"><img src=\"https://colab.research.google.com/assets/colab-badge.svg\" alt=\"Open In Colab\"/></a>"
      ]
    },
    {
      "cell_type": "code",
      "metadata": {
        "id": "SIRyrFUD1GhF"
      },
      "source": [
        "import numpy as np\n",
        "import matplotlib.pyplot as plt\n",
        "import torch\n",
        "import torch.nn as nn\n",
        "import torch.optim as optim\n",
        "import torch.nn.functional as F\n",
        "%matplotlib inline\n",
        "%config InlineBackend.figure_format =\"retina\"\n",
        "print(\"PyTorch version:{%s}\"%(torch.__version__))\n",
        "device = torch.device('cuda:0' if torch.cuda.is_available() else 'cpu')\n",
        "print(\"device : {%s}\"%(device))"
      ],
      "execution_count": null,
      "outputs": []
    },
    {
      "cell_type": "markdown",
      "metadata": {
        "id": "3fBS-xfu1SkL"
      },
      "source": [
        "##Dataset and Loader"
      ]
    },
    {
      "cell_type": "code",
      "metadata": {
        "id": "pKSbF48y1V4w"
      },
      "source": [
        "from torchvision import datasets, transforms\n",
        "mnist_train = datasets.MNIST(root='./data/', train=True, transform=transforms.ToTensor(), download=True)\n",
        "mnist_test = datasets.MNIST(root='./data/', train=False, transform=transforms.ToTensor(), download=True)\n",
        "BATCH_SIZE = 256\n",
        "train_iter = torch.utils.data.DataLoader(mnist_train, batch_size = BATCH_SIZE, shuffle=True, num_workers=1)\n",
        "test_iter = torch.utils.data.DataLoader(mnist_test, batch_size = BATCH_SIZE, shuffle=True, num_workers=1)\n"
      ],
      "execution_count": null,
      "outputs": []
    },
    {
      "cell_type": "markdown",
      "metadata": {
        "id": "zQzO3ycD117p"
      },
      "source": [
        "##Define Model"
      ]
    },
    {
      "cell_type": "code",
      "metadata": {
        "id": "4Be1SNP014iU"
      },
      "source": [
        "class RecurrentNeuralNetworkClass(nn.Module):\n",
        "\n",
        "  def __init__(self,name='rnn',xdim=28,hdim=256,ydim=10,n_layer=3):\n",
        "      super(RecurrentNeuralNetworkClass,self).__init__()\n",
        "      self.name = name\n",
        "      self.xdim = xdim\n",
        "      self.hdim = hdim\n",
        "      self.ydim = ydim\n",
        "      self.n_layer = n_layer # K\n",
        "\n",
        "      self.rnn = nn.LSTM(\n",
        "          input_size=self.xdim,hidden_size=self.hdim,num_layers=self.n_layer,batch_first=True)\n",
        "      self.lin = nn.Linear(self.hdim,self.ydim)\n",
        "\n",
        "  def forward(self,x):\n",
        "      # Set initial hidden and cell states \n",
        "      h0 = torch.zeros(self.n_layer, x.size(0), self.hdim).to(device) # hidden state\n",
        "      c0 = torch.zeros(self.n_layer, x.size(0), self.hdim).to(device) # cell state\n",
        "      # RNN\n",
        "      rnn_out,(hn,cn) = self.rnn(x, (h0,c0)) \n",
        "      # x:[N x L x Q] => rnn_out:[N x L x D]\n",
        "      # Linear\n",
        "      out = self.lin(\n",
        "          rnn_out[:,-1:]\n",
        "          ).view([-1,self.ydim]) \n",
        "      return out \n",
        "\n",
        "R = RecurrentNeuralNetworkClass(\n",
        "    name='rnn',xdim=28,hdim=256,ydim=10,n_layer=2).to(device)\n",
        "loss = nn.CrossEntropyLoss()\n",
        "optm = optim.Adam(R.parameters(),lr=1e-3)\n",
        "print (\"Done.\")"
      ],
      "execution_count": null,
      "outputs": []
    },
    {
      "cell_type": "markdown",
      "metadata": {
        "id": "QvM8vjaT4EaP"
      },
      "source": [
        "- N : number of batches\n",
        "- L : sequence length\n",
        "- Q : input dim\n",
        "- k : number of layers\n",
        "- D : LSTM feature dimension\n",
        "\n",
        "- X : [N x L x Q] : `N` input sequnce of length `L` with `Q` dim.\n",
        "- Y : [N x L x D] : `N` output sequence of length `L` with `D` feature dim.\n",
        "- hn : [K x N x D] : `K` (per each layer) of `N` final hidden state with `D` feature dim.\n",
        "- cn : [K x N x D] : `K` (per each layer) of `N` final hidden state with `D` cell dim."
      ]
    },
    {
      "cell_type": "code",
      "metadata": {
        "id": "XxS9iR6D4qse"
      },
      "source": [
        "np.set_printoptions(precision=3)\n",
        "torch.set_printoptions(precision=3)\n",
        "x_numpy = np.random.rand(2,10,28)\n",
        "x_torch = torch.from_numpy(x_numpy).float().to(device)\n",
        "rnn_out ,(hn,cn) = R.rnn(x_torch)\n",
        "\n",
        "print(\"rnn_out\", rnn_out.shape)\n",
        "print(\"Hiddden State hn : \", hn.shape)\n",
        "print(\"Cell States cn : \", cn.shape)"
      ],
      "execution_count": null,
      "outputs": []
    },
    {
      "cell_type": "markdown",
      "metadata": {
        "id": "evmemQ3R5Kho"
      },
      "source": [
        "##Check parameters"
      ]
    },
    {
      "cell_type": "code",
      "metadata": {
        "id": "FbPu7-wc49BF"
      },
      "source": [
        "np.set_printoptions(precision=3)\n",
        "n_param = 0\n",
        "for p_idx, (param_name, param) in enumerate(R.named_parameters()):\n",
        "  if param.requires_grad:\n",
        "    param_numpy = param.detach().cpu().numpy()\n",
        "    n_param += len(param_numpy.reshape(-1))\n",
        "    print(\"[%d] name: [%s] shape:[%s]\"%(p_idx, param_name, param_numpy.shape))\n",
        "    print(\"      val:%s\"%(param_numpy.reshape(-1)[:5]))\n",
        "print(\"Total number of parameters:[%s]\"%(format(n_param, ' ,d')))"
      ],
      "execution_count": null,
      "outputs": []
    },
    {
      "cell_type": "markdown",
      "metadata": {
        "id": "khi8RA3Y5xop"
      },
      "source": [
        "## Simple Forward path"
      ]
    },
    {
      "cell_type": "code",
      "metadata": {
        "id": "I-W66FZR5_7e"
      },
      "source": [
        "np.set_printoptions(precision=3)\n",
        "torch.set_printoptions(precision=3)\n",
        "x_numpy = np.random.rand(3, 10, 28)\n",
        "x_torch = torch.from_numpy(x_numpy).float().to(device)\n",
        "y_torch = R.forward(x_torch)\n",
        "y_numpy = y_torch.detach().cpu().numpy()\n",
        "\n",
        "print(\"x_numpy %s\"%(x_numpy.shape,))\n",
        "print(\"y_numpy %s\"%(y_numpy.shape,))"
      ],
      "execution_count": null,
      "outputs": []
    },
    {
      "cell_type": "markdown",
      "metadata": {
        "id": "agG236ig6XmA"
      },
      "source": [
        "## Evaluation Function"
      ]
    },
    {
      "cell_type": "code",
      "metadata": {
        "id": "vPsz8KXq6aN7"
      },
      "source": [
        "def func_eval(model,data_iter,device):\n",
        "    with torch.no_grad():\n",
        "        n_total,n_correct = 0,0\n",
        "        model.eval() # evaluate (affects DropOut and BN)\n",
        "        for batch_in,batch_out in data_iter:\n",
        "            y_trgt = batch_out.to(device)\n",
        "            model_pred = model.forward(batch_in.view(-1,28,28).to(device))\n",
        "            _,y_pred = torch.max(model_pred,1)\n",
        "            n_correct += (y_pred==y_trgt).sum().item()\n",
        "            n_total += batch_in.size(0)\n",
        "        val_accr = (n_correct/n_total)\n",
        "        model.train() # back to train mode \n",
        "    return val_accr\n",
        "print (\"Done\")"
      ],
      "execution_count": null,
      "outputs": []
    },
    {
      "cell_type": "markdown",
      "metadata": {
        "id": "8WF2UIwg6mxM"
      },
      "source": [
        "## Initial Evaluation"
      ]
    },
    {
      "cell_type": "code",
      "metadata": {
        "id": "wIjmQ58e6o53"
      },
      "source": [
        "train_accr = func_eval(R,train_iter,device)\n",
        "test_accr = func_eval(R,test_iter,device)\n",
        "print (\"train_accr:[%.3f] test_accr:[%.3f].\"%(train_accr,test_accr))"
      ],
      "execution_count": null,
      "outputs": []
    },
    {
      "cell_type": "code",
      "metadata": {
        "id": "YQpQfkABBYKb"
      },
      "source": [
        "print (\"Start training.\")\n",
        "R.train() # to train mode \n",
        "EPOCHS,print_every = 5,1\n",
        "for epoch in range(EPOCHS):\n",
        "    loss_val_sum = 0\n",
        "    for batch_in,batch_out in train_iter:\n",
        "        # Forward path\n",
        "        y_pred = R.forward(batch_in.view(-1,28,28).to(device))\n",
        "        loss_out = loss(y_pred,batch_out.to(device))\n",
        "        # Update\n",
        "        optm.zero_grad() # reset gradient \n",
        "        loss_out.backward() # backpropagate\n",
        "        optm.step() # optimizer update\n",
        "        loss_val_sum += loss_out\n",
        "    loss_val_avg = loss_val_sum/len(train_iter)\n",
        "    # Print\n",
        "    if ((epoch%print_every)==0) or (epoch==(EPOCHS-1)):\n",
        "        train_accr = func_eval(R,train_iter,device)\n",
        "        test_accr = func_eval(R,test_iter,device)\n",
        "        print (\"epoch:[%d] loss:[%.3f] train_accr:[%.3f] test_accr:[%.3f].\"%\n",
        "               (epoch,loss_val_avg,train_accr,test_accr))\n",
        "print (\"Done\")"
      ],
      "execution_count": null,
      "outputs": []
    },
    {
      "cell_type": "code",
      "metadata": {
        "id": "tYi1R4P5DeuC"
      },
      "source": [
        "n_sample = 25\n",
        "sample_indices = np.random.choice(len(mnist_test.targets),n_sample,replace=False)\n",
        "test_x = mnist_test.data[sample_indices]\n",
        "test_y = mnist_test.targets[sample_indices]\n",
        "with torch.no_grad():\n",
        "    R.eval() # to evaluation mode \n",
        "    y_pred = R.forward(test_x.view(-1,28,28).type(torch.float).to(device)/255.)\n",
        "y_pred = y_pred.argmax(axis=1)\n",
        "plt.figure(figsize=(10,10))\n",
        "for idx in range(n_sample):\n",
        "    plt.subplot(5, 5, idx+1)\n",
        "    plt.imshow(test_x[idx], cmap='gray')\n",
        "    plt.axis('off')\n",
        "    plt.title(\"Pred:%d, Label:%d\"%(y_pred[idx],test_y[idx]))\n",
        "plt.show()\n",
        "print (\"Done\")"
      ],
      "execution_count": null,
      "outputs": []
    }
  ]
}