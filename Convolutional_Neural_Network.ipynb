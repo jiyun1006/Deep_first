{
  "nbformat": 4,
  "nbformat_minor": 0,
  "metadata": {
    "colab": {
      "name": "Convolutional Neural Network",
      "private_outputs": true,
      "provenance": [],
      "collapsed_sections": [],
      "mount_file_id": "1kaNP86SSeWH6YYGWYKUq-vxeewtwaTfs",
      "authorship_tag": "ABX9TyPl6dsJqdTqcqFK00GdvoXJ",
      "include_colab_link": true
    },
    "kernelspec": {
      "name": "python3",
      "display_name": "Python 3"
    },
    "accelerator": "GPU"
  },
  "cells": [
    {
      "cell_type": "markdown",
      "metadata": {
        "id": "view-in-github",
        "colab_type": "text"
      },
      "source": [
        "<a href=\"https://colab.research.google.com/github/jiyun1006/colab_deep/blob/main/Convolutional_Neural_Network.ipynb\" target=\"_parent\"><img src=\"https://colab.research.google.com/assets/colab-badge.svg\" alt=\"Open In Colab\"/></a>"
      ]
    },
    {
      "cell_type": "code",
      "metadata": {
        "id": "5_UlV0r1zLI0"
      },
      "source": [
        "import numpy as np\n",
        "import matplotlib.pyplot as plt\n",
        "import torch\n",
        "import torch.nn as nn\n",
        "import torch.optim as optim\n",
        "import torch.nn.functional as F\n",
        "%matplotlib inline\n",
        "%config InlineBackend.figure_format =\"retina\"\n",
        "print(\"PyTorch version:{%s}\"%(torch.__version__))\n",
        "device = torch.device('cuda:0' if torch.cuda.is_available() else 'cpu')\n",
        "print(\"device : {%s}\"%(device))"
      ],
      "execution_count": null,
      "outputs": []
    },
    {
      "cell_type": "code",
      "metadata": {
        "id": "fxeGjdSL0Jxh"
      },
      "source": [
        "from torchvision import datasets, transforms\n",
        "mnist_train = datasets.MNIST(root='/data/', train=True, transform=transforms.ToTensor(), download=True)\n",
        "mnist_test = datasets.MNIST(root='/data/', train=False, transform=transforms.ToTensor(), download=True)\n",
        "print('Done')"
      ],
      "execution_count": null,
      "outputs": []
    },
    {
      "cell_type": "code",
      "metadata": {
        "id": "QtasPwKT0mh3"
      },
      "source": [
        "BATCH_SIZE = 256\n",
        "train_iter = torch.utils.data.DataLoader(mnist_train, batch_size = BATCH_SIZE, shuffle=True, num_workers=1)\n",
        "test_iter = torch.utils.data.DataLoader(mnist_test, batch_size = BATCH_SIZE, shuffle=True, num_workers=1)\n",
        "print('Done')"
      ],
      "execution_count": null,
      "outputs": []
    },
    {
      "cell_type": "markdown",
      "metadata": {
        "id": "0pNjlswn1ItD"
      },
      "source": [
        "Define Model"
      ]
    },
    {
      "cell_type": "code",
      "metadata": {
        "id": "-ANSg4tr1HBQ"
      },
      "source": [
        "class ConvolutionalNeuralNetworkClass(nn.Module):\n",
        "  def __init__(self, name=\"cnn\", xdim=[1,28,28], ksize=3, cdims=[32,64], hdims=[1024,128], ydim=10, USE_BATCHNORM=False):\n",
        "    super(ConvolutionalNeuralNetworkClass, self).__init__()\n",
        "    self.name = name\n",
        "    self.xdim = xdim\n",
        "    self.ksize = ksize\n",
        "    self.cdims = cdims\n",
        "    self.hdims = hdims\n",
        "    self.ydim = ydim\n",
        "    self.USE_BATCHNORM = USE_BATCHNORM\n",
        "\n",
        "    # Convolutional layers\n",
        "    self.layers =[]\n",
        "    prev_cdim = self.xdim[0]\n",
        "    for cdim in self.cdims:\n",
        "      self.layers.append(\n",
        "          nn.Conv2d(in_channels=prev_cdim,\n",
        "                    out_channels=cdim,\n",
        "                    kernel_size=self.ksize,\n",
        "                    stride=(1,1),\n",
        "                    padding=self.ksize//2)\n",
        "      )\n",
        "      if self.USE_BATCHNORM:\n",
        "        self.layers.append(nn.BatchNorm2d(cdim))\n",
        "      self.layers.append(nn.ReLU(True))\n",
        "      self.layers.append(nn.MaxPool2d(kernel_size=(2,2),stride=(2,2)))\n",
        "      self.layers.append(nn.Dropout2d(p=0.5))\n",
        "      prev_cdim = cdim\n",
        "\n",
        "\n",
        "    # Dense layers\n",
        "    self.layers.append(nn.Flatten())\n",
        "    prev_hdim = prev_cdim*(self.xdim[1]//(2**len(self.cdims)))*(self.xdim[2]//(2**len(self.cdims)))\n",
        "    for hdim in self.hdims:\n",
        "      self.layers.append(nn.Linear(prev_hdim, hdim, bias=True))\n",
        "      self.layers.append(nn.ReLU(True))\n",
        "      prev_hdim = hdim\n",
        "    self.layers.append(nn.Linear(prev_hdim, self.ydim, bias=True))\n",
        "\n",
        "\n",
        "    # Concatenate all layers\n",
        "\n",
        "    self.net = nn.Sequential()\n",
        "    for l_idx, layer in enumerate(self.layers):\n",
        "      layer_name = \"%s_%02d\"%(type(layer).__name__.lower(), l_idx)\n",
        "      self.net.add_module(layer_name, layer)\n",
        "    self.init_param()\n",
        "\n",
        "  def init_param(self):\n",
        "    for m in self.modules():\n",
        "      if isinstance(m, nn.Conv2d):\n",
        "        nn.init.kaiming_normal_(m.weight)\n",
        "        nn.init.zeros_(m.bias)\n",
        "      elif isinstance(m, nn.BatchNorm2d):\n",
        "        nn.init.constant_(m.weight,1)\n",
        "        nn.init.constant_(m.bias, 0)\n",
        "      elif isinstance(m, nn.Linear):\n",
        "        nn.init.kaiming_normal_(m.weight)\n",
        "        nn.init.zeros_(m.bias)\n",
        "  \n",
        "  def forward(self, x):\n",
        "    return self.net(x)\n",
        "  \n",
        "C = ConvolutionalNeuralNetworkClass(\n",
        "    name='cnn', xdim=[1,28,28], ksize=3, cdims=[32,64], hdims=[256,128], ydim=10).to(device)\n",
        "loss = nn.CrossEntropyLoss()\n",
        "optm = optim.Adam(C.parameters(), lr=1e-3)\n",
        "print('Done')\n",
        "\n"
      ],
      "execution_count": null,
      "outputs": []
    },
    {
      "cell_type": "markdown",
      "metadata": {
        "id": "qz3Mh39D52lx"
      },
      "source": [
        "check Parameters\n"
      ]
    },
    {
      "cell_type": "code",
      "metadata": {
        "id": "ftuESmVG50OQ"
      },
      "source": [
        "np.set_printoptions(precision=3)\n",
        "n_param = 0\n",
        "\n",
        "for p_idx, (param_name, param) in enumerate(C.named_parameters()):\n",
        "  if param.requires_grad:\n",
        "    param_numpy = param.detach().cpu().numpy()\n",
        "    n_param += len(param_numpy.reshape(-1))\n",
        "    print(\"[%d] name: [%s] shape: [%s]\"%(p_idx, param_name, param_numpy.shape))\n",
        "    print(\"      val : %s\"%(param_numpy.reshape(-1)[:5]))\n",
        "print(\"Total number of parameters: [%s]\"%(format(n_param,' ,d')))"
      ],
      "execution_count": null,
      "outputs": []
    },
    {
      "cell_type": "markdown",
      "metadata": {
        "id": "ZvlUELhz6lTW"
      },
      "source": [
        "Simple Forward "
      ]
    },
    {
      "cell_type": "code",
      "metadata": {
        "id": "1aOPVwff6qoR"
      },
      "source": [
        "np.set_printoptions(precision=3)\n",
        "torch.set_printoptions(precision=3)\n",
        "x_numpy = np.random.rand(2,1,28,28)\n",
        "x_torch = torch.from_numpy(x_numpy).float().to(device)\n",
        "y_torch = C.forward(x_torch)\n",
        "y_numpy = y_torch.detach().cpu().numpy()\n",
        "print(\"x_torch:\\n\", x_torch)\n",
        "print(\"y_torch:\\n\", y_torch)\n",
        "print(\"\\nx_numpy %s : \\n\"%(x_numpy.shape,),x_numpy)\n",
        "print(\"y_numpy %s :\\n\"%(y_numpy.shape,),y_numpy)"
      ],
      "execution_count": null,
      "outputs": []
    },
    {
      "cell_type": "markdown",
      "metadata": {
        "id": "NXSTNBnI7lgJ"
      },
      "source": [
        "evaluation"
      ]
    },
    {
      "cell_type": "code",
      "metadata": {
        "id": "sYCzeXkd7nps"
      },
      "source": [
        "def func_eval(model,data_iter,device):\n",
        "    with torch.no_grad():\n",
        "        model.eval() # evaluate (affects DropOut and BN)\n",
        "        n_total,n_correct = 0,0\n",
        "        for batch_in,batch_out in data_iter:\n",
        "            y_trgt = batch_out.to(device)\n",
        "            model_pred = model(batch_in.view(-1,1,28,28).to(device))\n",
        "            _,y_pred = torch.max(model_pred.data,1)\n",
        "            n_correct += (y_pred==y_trgt).sum().item()\n",
        "            n_total += batch_in.size(0)\n",
        "        val_accr = (n_correct/n_total)\n",
        "        model.train() # back to train mode \n",
        "    return val_accr\n",
        "print (\"Done\")"
      ],
      "execution_count": null,
      "outputs": []
    },
    {
      "cell_type": "code",
      "metadata": {
        "id": "vhuCESmF7rvh"
      },
      "source": [
        "C.init_param() # initialize parameters\n",
        "train_accr = func_eval(C,train_iter,device)\n",
        "test_accr = func_eval(C,test_iter,device)\n",
        "print (\"train_accr:[%.3f] test_accr:[%.3f].\"%(train_accr,test_accr))"
      ],
      "execution_count": null,
      "outputs": []
    },
    {
      "cell_type": "markdown",
      "metadata": {
        "id": "v38HKRy-7_ou"
      },
      "source": [
        "train"
      ]
    },
    {
      "cell_type": "code",
      "metadata": {
        "id": "eNVYH65K7uev"
      },
      "source": [
        "print (\"Start training.\")\n",
        "C.init_param() # initialize parameters\n",
        "C.train()\n",
        "EPOCHS,print_every = 10,1\n",
        "for epoch in range(EPOCHS):  \n",
        "    loss_val_sum = 0\n",
        "    for batch_in,batch_out in train_iter:\n",
        "        # Forward path\n",
        "        y_pred = C.forward(batch_in.view(-1,1,28,28).to(device))\n",
        "        loss_out = loss(y_pred,batch_out.to(device))\n",
        "        # Update\n",
        "        optm.zero_grad()      # reset gradient \n",
        "        loss_out.backward()      # backpropagate\n",
        "        optm.step()      # optimizer update\n",
        "        loss_val_sum += loss_out\n",
        "    loss_val_avg = loss_val_sum/len(train_iter)\n",
        "    # Print\n",
        "    if ((epoch%print_every)==0) or (epoch==(EPOCHS-1)):\n",
        "        train_accr = func_eval(C,train_iter,device)\n",
        "        test_accr = func_eval(C,test_iter,device)\n",
        "        print (\"epoch:[%d] loss:[%.3f] train_accr:[%.3f] test_accr:[%.3f].\"%\n",
        "               (epoch,loss_val_avg,train_accr,test_accr))\n",
        "print (\"Done\")        "
      ],
      "execution_count": null,
      "outputs": []
    },
    {
      "cell_type": "markdown",
      "metadata": {
        "id": "XBuEBeVX8U4i"
      },
      "source": [
        "test"
      ]
    },
    {
      "cell_type": "code",
      "metadata": {
        "id": "KOxvgZxz8UGz"
      },
      "source": [
        "n_sample = 25\n",
        "sample_indices = np.random.choice(len(mnist_test.targets), n_sample, replace=False)\n",
        "test_x = mnist_test.data[sample_indices]\n",
        "test_y = mnist_test.targets[sample_indices]\n",
        "with torch.no_grad():\n",
        "    y_pred = C.forward(test_x.view(-1,1,28,28).type(torch.float).to(device))\n",
        "y_pred = y_pred.argmax(axis=1)\n",
        "plt.figure(figsize=(10,10))\n",
        "for idx in range(n_sample):\n",
        "    plt.subplot(5, 5, idx+1)\n",
        "    plt.imshow(test_x[idx], cmap='gray')\n",
        "    plt.axis('off')\n",
        "    plt.title(\"Pred:%d, Label:%d\"%(y_pred[idx],test_y[idx]))\n",
        "plt.show()    \n",
        "print (\"Done\")"
      ],
      "execution_count": null,
      "outputs": []
    }
  ]
}